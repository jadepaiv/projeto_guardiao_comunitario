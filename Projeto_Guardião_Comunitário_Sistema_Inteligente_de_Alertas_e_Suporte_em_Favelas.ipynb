{
  "nbformat": 4,
  "nbformat_minor": 0,
  "metadata": {
    "colab": {
      "provenance": [],
      "authorship_tag": "ABX9TyORoPS7cvFTSF3nn805N5wg",
      "include_colab_link": true
    },
    "kernelspec": {
      "name": "python3",
      "display_name": "Python 3"
    },
    "language_info": {
      "name": "python"
    }
  },
  "cells": [
    {
      "cell_type": "markdown",
      "metadata": {
        "id": "view-in-github",
        "colab_type": "text"
      },
      "source": [
        "<a href=\"https://colab.research.google.com/github/jadepaiv/projeto_guardiao_comunitario/blob/main/Projeto_Guardi%C3%A3o_Comunit%C3%A1rio_Sistema_Inteligente_de_Alertas_e_Suporte_em_Favelas.ipynb\" target=\"_parent\"><img src=\"https://colab.research.google.com/assets/colab-badge.svg\" alt=\"Open In Colab\"/></a>"
      ]
    },
    {
      "cell_type": "markdown",
      "source": [
        "# Instalando o SDK do Google 💾"
      ],
      "metadata": {
        "id": "1HHO2LtZP7G6"
      }
    },
    {
      "cell_type": "code",
      "source": [
        "!pip install -q -U google-generativeai"
      ],
      "metadata": {
        "id": "wZJxHTW7Qh0Z"
      },
      "execution_count": null,
      "outputs": []
    },
    {
      "cell_type": "markdown",
      "source": [
        "# Importar bibliotecas 📚"
      ],
      "metadata": {
        "id": "2gaf81P-RZON"
      }
    },
    {
      "cell_type": "code",
      "source": [
        "import google.generativeai as genai\n",
        "from google.colab import userdata\n",
        "import random"
      ],
      "metadata": {
        "id": "tuzZGz-xRmQ5"
      },
      "execution_count": 1,
      "outputs": []
    },
    {
      "cell_type": "markdown",
      "source": [
        "# Configurar a API do Google Generative AI 🔑"
      ],
      "metadata": {
        "id": "pRXKXkwrRp3l"
      }
    },
    {
      "cell_type": "code",
      "source": [
        "api_key = userdata.get(\"SECRET_KEY\")\n",
        "genai.configure(api_key=api_key)\n"
      ],
      "metadata": {
        "id": "RCPoTFRkR30W"
      },
      "execution_count": null,
      "outputs": []
    },
    {
      "cell_type": "markdown",
      "source": [
        "# Simulação de detecção de tiroteios ❗"
      ],
      "metadata": {
        "id": "rqUqAA37R8hA"
      }
    },
    {
      "cell_type": "code",
      "source": [
        "def detectar_tiroteio():\n",
        "  # Simular localização (latitude, longitude)\n",
        "  latitude = random.uniform(-23.5, -22.5) # Exemplo: coordenadas do Rio de Janeiro\n",
        "  longitude = random.uniform(-43.5, -42.5)\n",
        "  return latitude, longitude"
      ],
      "metadata": {
        "id": "5xE6_tsRSO7t"
      },
      "execution_count": 3,
      "outputs": []
    },
    {
      "cell_type": "markdown",
      "source": [
        "# Simulação de perfil do usuário 🧑"
      ],
      "metadata": {
        "id": "5lf3bMXUSYmq"
      }
    },
    {
      "cell_type": "code",
      "source": [
        "def perfil_usuario():\n",
        "  mobilidade = random.choice([\"alta\", \"média\", \"baixa\"])\n",
        "  dependentes = random.choice([True, False])\n",
        "  return mobilidade, dependentes"
      ],
      "metadata": {
        "id": "TaB4yT9ITmjP"
      },
      "execution_count": 4,
      "outputs": []
    },
    {
      "cell_type": "markdown",
      "source": [
        "# Sistema de alerta personalizado 📢"
      ],
      "metadata": {
        "id": "QxHnX7ZbTt1W"
      }
    },
    {
      "cell_type": "code",
      "source": [
        "def gerar_alerta(localizacao_usuario, tiroteio_localizacao):\n",
        "  # Calcular distância (simulação)\n",
        "  distancia = random.randint(1, 10) # Unidades arbitrárias"
      ],
      "metadata": {
        "id": "losZL_cAVEEV"
      },
      "execution_count": 5,
      "outputs": []
    },
    {
      "cell_type": "markdown",
      "source": [
        "# Definir nível de risco 🧯"
      ],
      "metadata": {
        "id": "f8qnJ8cHVviu"
      }
    },
    {
      "cell_type": "code",
      "source": [
        "def classificar_risco(distancia):\n",
        "    \"\"\"\n",
        "    Classifica o nível de risco com base na distância.\n",
        "\n",
        "    Argumento:\n",
        "        distancia (float): Valor da distância.\n",
        "\n",
        "    Retorno:\n",
        "        str: Nível de risco (\"alto\", \"médio\" ou \"baixo\").\n",
        "    \"\"\"\n",
        "\n",
        "    if not isinstance(distancia, float):\n",
        "        raise TypeError(\"A distância deve ser um número.\")\n",
        "\n",
        "    if distancia <= 3:\n",
        "        nivel_risco = \"alto\"\n",
        "    elif distancia <= 6:\n",
        "        nivel_risco = \"médio\"\n",
        "    else:\n",
        "        nivel_risco = \"baixo\"\n",
        "\n",
        "    return nivel_risco\n",
        "\n",
        "try:\n",
        "    distancia = float(input(\"Digite a distância: \"))\n",
        "    nivel_risco = classificar_risco(distancia)\n",
        "    print(f\"Nível de risco: {nivel_risco}\")\n",
        "except TypeError as e:\n",
        "    print(f\"Erro: {e}\")\n",
        "except ValueError:\n",
        "    print(\"Valor inválido. Digite um número.\")"
      ],
      "metadata": {
        "id": "poYQG0D-WPVv"
      },
      "execution_count": null,
      "outputs": []
    },
    {
      "cell_type": "markdown",
      "source": [
        "  # Instruções de segurança (exemplos) 🧾\n"
      ],
      "metadata": {
        "id": "NaAzm8-cXNw3"
      }
    },
    {
      "cell_type": "code",
      "source": [
        "instrucoes = {\n",
        "    \"alto\": \"Busque abrigo imediatamente! Afaste-se de janelas e portas.\",\n",
        "    \"médio\": \"Mantenha-se alerta e evite áreas expostas. Considere buscar abrigo.\",\n",
        "    \"baixo\": \"Fique atento às informações e siga as orientações das autoridades.\"\n",
        "}\n",
        "\n",
        "mobilidade, dependentes = perfil_usuario()\n",
        "risco = ()\n",
        "\n",
        "# Calcular o risco... (assumindo que 'risco' é calculado aqui)\n",
        "\n",
        "if mobilidade == \"baixa\" or dependentes:\n",
        "    print(f\"Instruções: Se precisar de auxílio para locomoção, contate a rede de apoio.\")\n",
        "elif risco in instrucoes:\n",
        "    print(f\"Instruções para risco {risco}: {instrucoes[risco]}\")\n",
        "else:\n",
        "    print(f\"Instruções para o risco {risco} não encontradas.\")"
      ],
      "metadata": {
        "colab": {
          "base_uri": "https://localhost:8080/"
        },
        "id": "w96YGeXCX3QH",
        "outputId": "9711fac7-2403-456d-b0e9-fa7097f3761f"
      },
      "execution_count": 33,
      "outputs": [
        {
          "output_type": "stream",
          "name": "stdout",
          "text": [
            "Instruções: Se precisar de auxílio para locomoção, contate a rede de apoio.\n"
          ]
        }
      ]
    },
    {
      "cell_type": "markdown",
      "source": [
        "# Simulação de rede de apoio 🔊"
      ],
      "metadata": {
        "id": "13Rge98XayP4"
      }
    },
    {
      "cell_type": "code",
      "source": [
        "pontos_seguros = {\n",
        "    \"abrigo1\": (-23.0, -43.0),\n",
        "    \"posto_saude\": (-22.9, -43.2),\n",
        "    \"delegacia\": (-22.8, -43.1)\n",
        "}\n",
        "\n",
        "def validar_coordenada(coordenada):\n",
        "    # Implementar validação de formato e valores da coordenada (por exemplo, latitude e longitude dentro dos limites válidos)\n",
        "    if not isinstance(coordenada, tuple) or len(coordenada) != 2:\n",
        "        raise ValueError(\"Coordenada inválida. Deve ser um tupla com latitude e longitude.\")\n",
        "    latitude, longitude = coordenada\n",
        "    if not (-90 <= latitude <= 90) or not (-180 <= longitude <= 180):\n",
        "        raise ValueError(\"Valores de latitude e longitude fora dos limites válidos.\")\n",
        "    return True  # Coordenada válida\n",
        "\n",
        "def gerar_alerta(localizacao_usuario, localizacao_tiroteio):\n",
        "    # Implementar lógica para calcular risco e gerar instruções (por exemplo, utilizando distância entre as localizações e severidade do tiroteio)\n",
        "    risco = calcular_risco(localizacao_usuario, localizacao_tiroteio)\n",
        "    instrucoes = gerar_instrucoes_evacuacao(localizacao_usuario, localizacao_tiroteio)\n",
        "    return risco, instrucoes\n",
        "\n",
        "def chatbot(mensagem, contexto):\n",
        "    # Gerenciar contexto da conversa\n",
        "    contexto = contexto or []  # Inicializar contexto vazio se não for fornecido\n",
        "    chat = model.start_chat(history=contexto)\n",
        "    resposta = chat.send_message(mensagem)\n",
        "    texto_resposta = resposta.parts[0].text\n",
        "\n",
        "    # Extrair intenção e entidade da mensagem do usuário\n",
        "    intencao, entidade = extrair_informacao(texto_resposta)\n",
        "\n",
        "    if intencao == \"buscar_abrigo\":\n",
        "        # Consultar abrigo mais próximo com base na localização do usuário\n",
        "        try:\n",
        "            validar_coordenada(localizacao_usuario)  # Validar coordenada do usuário\n",
        "        except ValueError as e:\n",
        "            texto_resposta = f\"Erro: {e}\"\n",
        "            contexto.append(texto_resposta)\n",
        "            return texto_resposta\n",
        "        abrigo_mais_proximo = buscar_abrigo_mais_proximo(localizacao_usuario, pontos_seguros)\n",
        "        if abrigo_mais_proximo:\n",
        "            texto_resposta = f\"O abrigo mais próximo é {abrigo_mais_proximo}. Deseja saber a rota para chegar até lá?\"\n",
        "        else:\n",
        "            texto_resposta = \"Nenhum abrigo encontrado nas proximidades.\"\n",
        "    elif intencao == \"obter_informacao\":\n",
        "        # Fornecer informações sobre o ponto seguro especificado pela entidade\n",
        "        if entidade in pontos_seguros:\n",
        "            texto_resposta = fornecer_informacao_ponto_seguro(entidade, pontos_seguros)\n",
        "        else:\n",
        "            texto_resposta = \"Ponto seguro não encontrado. Tente novamente.\"\n",
        "    else:\n",
        "        # Tratar respostas genéricas ou incompreensíveis\n",
        "        texto_resposta = \"Desculpe, não entendi sua mensagem. Por favor, reformule sua pergunta.\"\n",
        "\n",
        "    # Atualizar contexto da conversa\n",
        "    contexto.append(texto_resposta)\n",
        "    return texto_resposta\n",
        "\n",
        "# Funções auxiliares que precisam ser implementadas:\n",
        "def extrair_informacao(texto_resposta):\n",
        "    # Extrair intenção e entidade da mensagem do usuário (pode utilizar técnicas de processamento de linguagem natural)\n",
        "    pass\n",
        "\n",
        "def buscar_abrigo_mais_proximo(localizacao_usuario, pontos_seguros):\n",
        "    # Consultar o abrigo mais próximo com base na localização do usuário e nos dados dos pontos seguros\n",
        "    pass\n",
        "\n",
        "def fornecer_informacao_ponto_seguro(entidade, pontos_seguros):\n",
        "    # Obter e fornecer informações sobre o ponto seguro especificado pela entidade (endereço, telefone, horário de funcionamento, etc.)\n",
        "    pass\n",
        "\n",
        "def calcular_risco(localizacao_usuario, localizacao_tiroteio):\n",
        "    # Implementar lógica para calcular o nível de risco com base na distância entre as localizações e outros fatores relevantes\n",
        "    pass\n",
        "\n",
        "def gerar_instrucoes_evacuacao(localizacao_usuario, localizacao_tiroteio):\n",
        "    # Gerar instruções detalhadas para o usuário evacuar para um local seguro\n",
        "    pass\n",
        "\n"
      ],
      "metadata": {
        "id": "tg3B1KnXcATy"
      },
      "execution_count": 40,
      "outputs": []
    }
  ]
}